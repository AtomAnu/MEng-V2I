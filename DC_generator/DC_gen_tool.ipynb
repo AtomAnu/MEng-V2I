{
 "metadata": {
  "language_info": {
   "codemirror_mode": {
    "name": "ipython",
    "version": 3
   },
   "file_extension": ".py",
   "mimetype": "text/x-python",
   "name": "python",
   "nbconvert_exporter": "python",
   "pygments_lexer": "ipython3",
   "version": "3.7.6-final"
  },
  "orig_nbformat": 2,
  "kernelspec": {
   "name": "python3",
   "display_name": "Python 3.7.6 64-bit ('base': conda)",
   "metadata": {
    "interpreter": {
     "hash": "56e81991b15ac790597f584ddc523a2fa3b2c816d8ca744d0ac1b11c2260d73e"
    }
   }
  }
 },
 "nbformat": 4,
 "nbformat_minor": 2,
 "cells": [
  {
   "cell_type": "code",
   "execution_count": 4,
   "metadata": {},
   "outputs": [],
   "source": [
    "import math\n",
    "from sympy import *"
   ]
  },
  {
   "source": [
    "class DP(object):\n",
    "    \"\"\" Module 3: Drive Pulse\n",
    "    \"\"\"\n",
    "    def __init__(self):\n",
    "        velocity_noise = None\n",
    "        accel = None\n",
    "        cruise = None\n",
    "        decel = None\n",
    "        idle = None\n",
    "        t_DP = None\n",
    "\n",
    "    def load_csv_data(self):\n",
    "        pass\n",
    "\n",
    "    def velocity_noise(self):\n",
    "        A_FS = Symbol('A/_FS')\n",
    "        print(Ai_FS)\n",
    "        #EQN 5\n",
    "        y_FS[t] = Sum(A_FS[i]*sin(w_FS[i][t]+gamma_FS[i]), (i, 1, 3))\n",
    "\n",
    "        pass\n"
   ],
   "cell_type": "code",
   "metadata": {},
   "execution_count": null,
   "outputs": []
  },
  {
   "cell_type": "code",
   "execution_count": 10,
   "metadata": {},
   "outputs": [
    {
     "output_type": "stream",
     "name": "stdout",
     "text": [
      "A^{i}_{FS}\n"
     ]
    }
   ],
   "source": [
    "Ai_FS = Symbol('A^{i}_{FS}')\n",
    "print(Ai_FS)"
   ]
  },
  {
   "cell_type": "code",
   "execution_count": null,
   "metadata": {},
   "outputs": [],
   "source": [
    "class DS(object):\n",
    "    \"\"\" Module 2: Drive Scenario\n",
    "    \"\"\"\n",
    "    def __init__(self):\n",
    "        "
   ]
  },
  {
   "cell_type": "code",
   "execution_count": null,
   "metadata": {},
   "outputs": [],
   "source": [
    "class DC(object):\n",
    "    \"\"\" Module 1: Drive Cycle\n",
    "    \"\"\"\n",
    "    def __init__(self, dc_length):\n",
    "        \n",
    "        t_DC = dc_length\n",
    "        sum_t_DS = 0\n",
    "        while t_DC > sum_t_DS:\n",
    "            pass\n",
    "        pass\n"
   ]
  }
 ]
}